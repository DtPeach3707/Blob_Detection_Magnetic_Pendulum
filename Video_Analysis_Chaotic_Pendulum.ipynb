{
  "nbformat": 4,
  "nbformat_minor": 0,
  "metadata": {
    "colab": {
      "name": "Video Analysis: Chaotic Pendulum",
      "provenance": [],
      "collapsed_sections": []
    },
    "kernelspec": {
      "display_name": "Python 3",
      "name": "python3"
    }
  },
  "cells": [
    {
      "cell_type": "code",
      "metadata": {
        "id": "wyowIOirvve7"
      },
      "source": [
        "!gdown https://drive.google.com/uc?id=101sgazgxxT1bUDyTLVYlr3i1H2VCAd2m # Control\n",
        "!gdown https://drive.google.com/uc?id=1D1XbF5SdQ8lJNb_IFyYbHMI5w7ukY8xs #W/ magnets"
      ],
      "execution_count": null,
      "outputs": []
    },
    {
      "cell_type": "code",
      "metadata": {
        "id": "hX0TwkAsYEk_"
      },
      "source": [
        "import imageio\n",
        "import matplotlib.pyplot as plt\n",
        "import numpy as np\n",
        "from skimage.feature import blob_doh #Blob detection that I will use\n",
        "filname = '/content/20201029_163023_001.mp4'\n",
        "vid = imageio.get_reader(filname, \"mp4\")\n",
        "frames_stack = []\n",
        "blobs = []\n",
        "for frame in vid.iter_data():\n",
        "  frame = frame[200:1020,:,0]\n",
        "  frames_stack.append(frame)\n",
        "  blob = np.array(blob_doh(frame, min_sigma= 10, max_sigma = 50, threshold = 0.01)).squeeze()\n",
        "  blobs.append(blob) \n",
        "blobs = np.array(blobs)\n",
        "frames_stack = np.array(frames_stack)\n",
        "print (blobs.shape)"
      ],
      "execution_count": null,
      "outputs": []
    },
    {
      "cell_type": "code",
      "metadata": {
        "id": "OBi_JYXGSN3q"
      },
      "source": [
        "from scipy.optimize import curve_fit\n",
        "x = []\n",
        "y = []\n",
        "frames = []\n",
        "i = 0\n",
        "for blob in blobs1:\n",
        "  frames.append(i/240)\n",
        "  i += 1\n",
        "  x.append(blob[1])\n",
        "  y.append(-blob[0] + 810)\n",
        "x = np.array(x)\n",
        "y = np.array(y)\n",
        "plt.scatter(frames, x, label = 'data')\n",
        "plt.xlabel(\"Time (s)\")\n",
        "plt.ylabel(\"X-position of the Pendulum (Pixels)\")\n",
        "plt.title(\"X-position of Pendulum over time)\")\n",
        "plt.legend(loc = 'upper right')\n",
        "plt.show()\n",
        "plt.scatter(frames, y, label = 'data')\n",
        "plt.xlabel(\"Time (s)\")\n",
        "plt.ylabel(\"Y-position of Pendulum (Pixels)\")\n",
        "plt.title(\"Y-position of Pendulum over time\")"
      ],
      "execution_count": null,
      "outputs": []
    },
    {
      "cell_type": "code",
      "metadata": {
        "id": "0rVC-OiQBdFv"
      },
      "source": [
        "import imageio\n",
        "import numpy as np\n",
        "import matplotlib.pyplot as plt\n",
        "from skimage.feature import blob_log, blob_dog, blob_doh #Blob detection I will use\n",
        "import cv2\n",
        "filename = '/content/20201030_171546_002.mp4'\n",
        "blob_stack = []\n",
        "vid = imageio.get_reader(filename, \"mp4\")\n",
        "frames_stack = []\n",
        "blobs = []\n",
        "i = 0\n",
        "for frame in vid.iter_data():\n",
        "  frame = frame[540:740,500:700,0]\n",
        "  frames_stack.append(frame) \n",
        "  blob = np.array(blob_doh(frame, min_sigma= 10, max_sigma = 50, threshold = 0.01)).squeeze()\n",
        "  blobs.append(blob) \n",
        "blobs = np.array(blobs) \n",
        "frames_stack = np.array(frames_stack) \n",
        "blob_stack.append(blobs)"
      ],
      "execution_count": null,
      "outputs": []
    },
    {
      "cell_type": "code",
      "metadata": {
        "id": "LiUR7HMaPfwt"
      },
      "source": [
        "from scipy.optimize import curve_fit\n",
        "x = []\n",
        "y = []\n",
        "frames = []\n",
        "i = 0\n",
        "vid = 0\n",
        "for blob in blobs:\n",
        "  frames.append(i/240)\n",
        "  i += 1\n",
        "  x.append(blob[1])\n",
        "  y.append(-blob[0] + 810)\n",
        "x = np.array(x)\n",
        "y = np.array(y)\n",
        "def func(z, a, b, c, d, e):\n",
        "  return (a - d*z) * np.cos(b*(z + c)) + e\n",
        "if vid == 0:    \n",
        "  popt, pcov = curve_fit(func, frames, x, p0 = [50, 6, 0.2, 10, 90])\n",
        "elif vid == 1:\n",
        "  popt, pcov = curve_fit(func, frames, x, p0 = [50, 6, 0.2, 10, 90])\n",
        "plt.scatter(frames, x, label = 'data')\n",
        "plt.plot(frames, [func(frame, a = popt[0], b = popt[1], c = popt[2], d = popt[3], e = popt[4]) for frame in frames], 'r', label = \"Fitted sinusoidal function\")\n",
        "plt.xlabel(\"Time (s)\")\n",
        "plt.ylabel(\"X-position of the Pendulum (Pixels)\")\n",
        "plt.title(\"X-position of Pendulum over time)\")\n",
        "plt.legend(loc = 'upper right')\n",
        "plt.show()\n",
        "plt.scatter(frames, y, label = 'data')\n",
        "plt.xlabel(\"Time (s)\")\n",
        "plt.ylabel(\"Y-position of Pendulum (Pixels)\")\n",
        "plt.title(\"Y-position of Pendulum over time\")\n",
        "if vid == 0:\n",
        "  def func1(z, a, b, c, d, e, f):\n",
        "    return a * (np.sin(2*b*z + c))**2 + d * (np.sin(b*z)) * (np.cos(b*z + c)) + e * z + f\n",
        "  popt1, pcov1 = curve_fit(func1, frames, y, p0 = [-30, -5, -17, -9, -1.2, 168])\n",
        "elif vid == 1:\n",
        "  def func1(z, a, b, c, d, e, f):\n",
        "    return a * np.sin(b*(z+c)) + d*(e**(-z)) + f\n",
        "  popt1, pcov1 = curve_fit(func1, frames, y, p0 = [-6, 20, 0.5, 5, 2, 708])\n",
        "plt.plot(frames, [func1(frame, a = popt1[0], b = popt1[1], c = popt1[2], d = popt1[3], e = popt1[4], f = popt1[5]) for frame in frames], 'r', label = 'fitted function')\n",
        "plt.legend(loc = 'upper right')\n",
        "plt.show()"
      ],
      "execution_count": null,
      "outputs": []
    }
  ]
}